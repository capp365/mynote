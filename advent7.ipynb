{
 "cells": [
  {
   "cell_type": "markdown",
   "metadata": {},
   "source": [
    "# サナララメディア処理の基礎的検討(1)\n",
    "\n",
    "このドキュメントは、[ぴょこりんクラスタ Advent Calendar 2015](http://www.adventar.org/calendars/960)のために書いたものです。\n",
    "\n",
    "## はじめに\n",
    "\n",
    "　ぶっちゃけOpenCV触ってみようと思っただけです。最近Deep Learningもてはやされてて、実際ChainerインストールしてGPGPUもぶん回せることを確認したものの、普通に画像処理方面のことしたことないよねってことで。基本的なところをきちんと触ってからDeep Learningに手を出してみて、じゃないとやっぱり一つ基準みたいなものを最初に持っておかないと、何がすごいってわかんないよねってことで。  \n",
    "　動かした環境はUbuntuなんだけど、apt-getでlibopencv-devとpython-opencvぶち込んだらオマケで古いnumpyが入ってきて、依存するライブラリ(matplotlibとかscikit-learnとか)が全部動かなくなってひゃっはーってなる呪い付なので注意。pipで動かなくなったやつらをuninstall=>installすると古いバージョンのnumpyに合わせてインストールしてくれるようで、なんとか動くようになるんだけど、何となくopencvのためにnumpyが古くなるというのもねぇ・・・。OpenCV使うときは仮想化かますなり何らかの手段で専用の環境用意した方が良いのかも。というわけでサナララメディア処理はじまるよ！！！\n",
    " \n",
    "## 映像中に複数いるめっちょかわいいヒロイン達を抽出し追従したい\n",
    " \n",
    " 自然なモチベーションです。追従したくない？追従したいよね！！とりあえず映像から女の子たちの顔画像を抽出するよ！一般的に現実は厳しいとされるから、[非現実向けにチューニングされた顔画像検出手法が提案されているよ](http://ultraist.hatenablog.com/entry/20110718/1310965532)。この記事でもこいつを活用させてもらったよ！！"
   ]
  },
  {
   "cell_type": "code",
   "execution_count": 6,
   "metadata": {
    "collapsed": false
   },
   "outputs": [],
   "source": [
    "import cv2\n",
    "vidcap = cv2.VideoCapture('./learningset/snrrrmp4.mp4')\n",
    "success,image = vidcap.read()\n",
    "count = 0;\n",
    "cascade_path ='./lbpcascade_animeface.xml'\n",
    "cascade = cv2.CascadeClassifier(cascade_path)\n",
    "inddic={}\n",
    "while success:\n",
    "  success,image = vidcap.read()\n",
    "  facerect = cascade.detectMultiScale(image)\n",
    "  tmp=[]\n",
    "  for ind,rect in enumerate(facerect):\n",
    "    #cv2.rectangle(image, tuple(rect[0:2]),tuple(rect[0:2]+rect[2:4]), color, thickness=2)\n",
    "    tmp.append(image[rect[1]:rect[1]+rect[3],rect[0]:rect[0]+rect[2]])\n",
    "  inddic[count]=tmp\n",
    "  count += 1"
   ]
  },
  {
   "cell_type": "markdown",
   "metadata": {},
   "source": [
    "## 特徴量をつくる\n",
    "### 色の離散化\n",
    "　画像処理よくわかんないからとりあえず次元削減的な効果を狙ってk-meansで色を離散化するよ。"
   ]
  },
  {
   "cell_type": "code",
   "execution_count": 19,
   "metadata": {
    "collapsed": false
   },
   "outputs": [
    {
     "name": "stdout",
     "output_type": "stream",
     "text": [
      "33930577\n"
     ]
    }
   ],
   "source": [
    "colors=[l for i in inddic.items() if len(i[1])!=0 for j in i[1] for k in j for l in k]\n",
    "print len(colors)"
   ]
  },
  {
   "cell_type": "markdown",
   "metadata": {
    "collapsed": false
   },
   "source": [
    "顔画像周辺のドットの総数。それぞれが3次元（色的な意味で）ベクトルを持っていると。これk-meansかけて色を離散化しようぜっていう。\n",
    "ちょっとデータ多すぎるから1%位に間引くことにする。1％にした理由はそれ以上にすると今晩この計算回すだけで終わってしまうから。"
   ]
  },
  {
   "cell_type": "code",
   "execution_count": 38,
   "metadata": {
    "collapsed": false,
    "scrolled": true
   },
   "outputs": [
    {
     "name": "stdout",
     "output_type": "stream",
     "text": [
      "339651\n"
     ]
    }
   ],
   "source": [
    "import random\n",
    "samples=[i for i in colors if random.random()>0.99]\n",
    "print len(samples)"
   ]
  },
  {
   "cell_type": "code",
   "execution_count": 182,
   "metadata": {
    "collapsed": false
   },
   "outputs": [],
   "source": [
    "from sklearn.cluster import KMeans\n",
    "results=[]\n",
    "for i in range(5,50):\n",
    "    k_means = KMeans(n_clusters=i, n_init=4)\n",
    "    k_means.fit(samples)\n",
    "    results.append(k_means)\n",
    "#%matplotlib inline"
   ]
  },
  {
   "cell_type": "markdown",
   "metadata": {},
   "source": [
    "### Bag of なんちゃら\n",
    "　顔画像フレームごとに離散化した諸々の色の出現回数を数えてこれを並べて特徴量をつくります。色のヒストグラムなのでBag of Colorsとか言うんでしょうかね。色の頭文字で構成されるサナララにふさわしい特徴量です！"
   ]
  },
  {
   "cell_type": "code",
   "execution_count": 168,
   "metadata": {
    "collapsed": false
   },
   "outputs": [
    {
     "name": "stdout",
     "output_type": "stream",
     "text": [
      "KMeans(copy_x=True, init='k-means++', max_iter=300, n_clusters=41, n_init=4,\n",
      "    n_jobs=1, precompute_distances='auto', random_state=None, tol=0.0001,\n",
      "    verbose=0)\n"
     ]
    }
   ],
   "source": [
    "import warnings;warnings.filterwarnings('ignore')\n",
    "import numpy as np\n",
    "kmeans=results[35]\n",
    "print kmeans\n",
    "data=[(i[0],j) for i in inddic.items() if len(i[1])>0 for j in i[1]]\n",
    "BoC=[]\n",
    "for i in data:\n",
    "    (s1,s2,s3)=i[1].shape\n",
    "    clusters=kmeans.predict(np.reshape(i[1],(s1*s2,s3)))\n",
    "    BoC.append([i[0] ,[len(np.where(clusters==s)[0]) for s in range(20)]])\n",
    "    #print [list(clusters).count(s) for s in range(20)]"
   ]
  },
  {
   "cell_type": "markdown",
   "metadata": {},
   "source": [
    "## 顔画像自体の分類\n",
    "眠くなって来たのでちゃちゃっと正規化してGMMにでもかけてみましょう。"
   ]
  },
  {
   "cell_type": "code",
   "execution_count": 181,
   "metadata": {
    "collapsed": false
   },
   "outputs": [
    {
     "data": {
      "text/plain": [
       "GMM(covariance_type='full', init_params='wmc', min_covar=0.001,\n",
       "  n_components=10, n_init=1, n_iter=100, params='wmc', random_state=None,\n",
       "  thresh=None, tol=0.001, verbose=0)"
      ]
     },
     "execution_count": 181,
     "metadata": {},
     "output_type": "execute_result"
    }
   ],
   "source": [
    "from sklearn.preprocessing import normalize\n",
    "from sklearn.decomposition import KernelPCA\n",
    "from sklearn.mixture import GMM \n",
    "pca=KernelPCA(n_components=25)\n",
    "X=[i[1] for i in BoC]\n",
    "preX=normalize(X, norm='l2', axis=1)\n",
    "pca.fit(preX)\n",
    "preX=pca.transform(preX)\n",
    "g = GMM(covariance_type='full',n_components=10)\n",
    "g.fit(preX)"
   ]
  },
  {
   "cell_type": "markdown",
   "metadata": {},
   "source": [
    "動画における各フレームごとに、認識された顔画像がどのガウシアンに分類されたか表示する。"
   ]
  },
  {
   "cell_type": "code",
   "execution_count": 179,
   "metadata": {
    "collapsed": false
   },
   "outputs": [
    {
     "data": {
      "image/png": "[encoded data removed]",
      "text/plain": [
       "<matplotlib.figure.Figure at 0x7f9fa1f84510>"
      ]
     },
     "metadata": {},
     "output_type": "display_data"
    }
   ],
   "source": [
    "plt.figure(num=None, figsize=(11.5,3),dpi=80,facecolor='w',edgecolor='k')\n",
    "result=[(s[0], g.predict(pca.transform([s[1]]))[0]) for s in BoC]\n",
    "#result=[(s[0], g.predict([s[1]])) for s in BoC]\n",
    "plt.plot([i[0] for i in result],[i[1] for i in result],'rx')\n",
    "plt.xlim(0,count)\n",
    "plt.ylim(-0.5,9.5)\n",
    "plt.grid()\n",
    "plt.show()\n"
   ]
  },
  {
   "cell_type": "markdown",
   "metadata": {},
   "source": [
    "ちなみに使った動画は[これ](https://www.youtube.com/watch?v=iFvruJ98Gl0)。\n",
    "<iframe width=\"560\" height=\"315\" src=\"https://www.youtube.com/embed/iFvruJ98Gl0\" frameborder=\"0\" allowfullscreen></iframe>"
   ]
  },
  {
   "cell_type": "markdown",
   "metadata": {},
   "source": [
    "動画長めながら上の図を眺めると、「あーこれはこれかな？」みたいなのがそこそこわかるんだけれど、それにしたってあんまり綺麗に分かれてなひ・・・。希望としては各コンポネントが各キャラに対応して欲しかった（キャラ数＝５よりコンポネント数の方が多いのは５にしたとき結果がクソだったから増やしたということですご察しください）。なかなか難しい。ちなみに１３００フレームはひかる氏が一人で座ってるところなんだけど何故か靴あたりがもう一つ顔として認識されて変なコンポネント（たぶん7番め）ができちゃってたりする。"
   ]
  },
  {
   "cell_type": "markdown",
   "metadata": {},
   "source": [
    "## 色々やってみて思ったこと\n",
    "　全部のフレーム顔画像検出して結果を枠で囲んだ画像生成して眺めることも一応やってて、やっぱりこれって正面からで顔全体が見えている画像を対象としていて、横を向いている、目をつむっている、顔の一部が隠れてる、ドアップで輪郭の一部がはみ出てしまってるみたいなケースでは検出出来ないことが多いなぁと感じた。動画の40秒あたりでひかる氏手が顔の両側にあるんだけど、これだけでひかる氏の顔は認識できなくなってたりする。性質上のぞみ先生は顔を何かで隠してることが多くて、こっちもなかなか認識しなくてもうみてるだけでニヤニヤしてるキモヲタでした。\n",
    " Bag of Colorsは基本肌色に持ってかれるだろうなぁと思いつつ何か前処理かましてやれば目と髪の色で結構識別出来るかなぁっと思ったんだけど結構いまいち。結果の詳細な分析や考察はまだ出来てないんだけどピンク髪の矢神さんは割と追えてる感じがした。特徴量つくる側では結構えいやとやってしまったのでもうちょいパラメタチューニングの余地があるかも。\n",
    " あと、一つ一つのデータを眺めるというクソ単調な作業でも対象に興味があると続けられるんだなぁと思いました。\n",
    "\n",
    "## まとめ\n",
    "　動画に対してOpenCVとかscikit-learnとか色々叩いて色々やってみたけど結果は微妙だった。"
   ]
  }
 ],
 "metadata": {
  "kernelspec": {
   "display_name": "Python 2",
   "language": "python",
   "name": "python2"
  },
  "language_info": {
   "codemirror_mode": {
    "name": "ipython",
    "version": 2
   },
   "file_extension": ".py",
   "mimetype": "text/x-python",
   "name": "python",
   "nbconvert_exporter": "python",
   "pygments_lexer": "ipython2",
   "version": "2.7.6"
  }
 },
 "nbformat": 4,
 "nbformat_minor": 0
}

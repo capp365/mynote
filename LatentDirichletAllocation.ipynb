{
 "cells": [
  {
   "cell_type": "markdown",
   "metadata": {},
   "source": [
    "Latent Dirichlet Allocation (LDA)の復習(記憶があやふやなので)。"
   ]
  },
  {
   "cell_type": "markdown",
   "metadata": {},
   "source": [
    "#各パラメータの解釈\n",
    "\n",
    "$w_i|z_i,\\phi^{(z_i)} \\sim Discrete(\\phi^{(z_i)}) \\tag{1}$\n",
    "\n",
    "$\\phi \\sim Dirichlet(\\beta) \\tag{2}$\n",
    "\n",
    "$z_i|\\theta^{(d_i)} \\sim Discrete(\\theta^{(d_i)}) \\tag{3}$\n",
    "\n",
    "$\\theta \\sim Dirichlet(\\alpha) \\tag{4}$\n",
    "\n",
    "[Griffiths 2002 https://people.cs.umass.edu/~wallach/courses/s11/cmpsci791ss/readings/griffiths02gibbs.pdf]\n",
    "\n",
    "ここで、$w_i$は単語、$z_i$はトピック、$\\theta$はトピックの生成確率、$d_i$は文章を表す。$\\alpha$と$\\beta$はハイパーパラメータ。トピックの生成確率は文章ごとに別(式3)。つまり文章ごとにトピックの混ざり具合が異なるということ。それぞれのトピックが別々の語彙を持っていて、その語彙に応じて単語が生成され、これが連なって文章が構成されている。\n",
    " \n",
    "　ハイパーパラメータ$\\alpha$、$\\beta$はそれぞれ、各文章におけるトピックの混ざり具合、各トピックにおける語彙を左右するパラメータとなる。$Dirichlet$分布のパラメータは大きくなればなるほど生成されるベクトルにおける各要素の分散は小さくなる。一方で分散が変動したとしても生成されるベクトルの要素の総和が1になることはかわらない。結果として分散が大きくなることによりスパースなベクトルが生成されやすくなる。つまりハイパーパラメータ$\\alpha$、$\\beta$はそれぞれ、文章中にどの程度トピックが混ざりあうか、$\\beta$はトピックごとにどの程度の単語が含まれるかを表してると解釈できる。応用上は各文章は少ないトピックで表したい、それこそトピックの割合じゃなくてこのトピック！と一意にラベル付けしたい場合は$\\alpha$は小さ目、トピックごとの語彙の差がかなりファジー(？)とかいう場合は$\\beta$大き目、みたいな選択をすればよいということになる（たぶん）。\n",
    " \n",
    "#Getting Startコピペ\n",
    "https://pypi.python.org/pypi/lda"
   ]
  },
  {
   "cell_type": "code",
   "execution_count": 1,
   "metadata": {
    "collapsed": false
   },
   "outputs": [
    {
     "name": "stdout",
     "output_type": "stream",
     "text": [
      "(395, 4258) 84010\n",
      "Topic 0: british churchill sale million major letters west\n",
      "Topic 1: church government political country state people party\n",
      "Topic 2: elvis king fans presley life concert young\n",
      "Topic 3: yeltsin russian russia president kremlin moscow michael\n",
      "Topic 4: pope vatican paul john surgery hospital pontiff\n",
      "Topic 5: family funeral police miami versace cunanan city\n",
      "Topic 6: simpson former years court president wife south\n",
      "Topic 7: order mother successor election nuns church nirmala\n",
      "Topic 8: charles prince diana royal king queen parker\n",
      "Topic 9: film french france against bardot paris poster\n",
      "Topic 10: germany german war nazi letter christian book\n",
      "Topic 11: east peace prize award timor quebec belo\n",
      "Topic 12: n't life show told very love television\n",
      "Topic 13: years year time last church world people\n",
      "Topic 14: mother teresa heart calcutta charity nun hospital\n",
      "Topic 15: city salonika capital buddhist cultural vietnam byzantine\n",
      "Topic 16: music tour opera singer israel people film\n",
      "Topic 17: church catholic bernardin cardinal bishop wright death\n",
      "Topic 18: harriman clinton u.s ambassador paris president churchill\n",
      "Topic 19: city museum art exhibition century million churches\n"
     ]
    }
   ],
   "source": [
    "import numpy as np\n",
    "import lda\n",
    "import lda.datasets\n",
    "X = lda.datasets.load_reuters()\n",
    "vocab = lda.datasets.load_reuters_vocab()\n",
    "titles = lda.datasets.load_reuters_titles()\n",
    "print X.shape,X.sum()\n",
    "model = lda.LDA(n_topics=20, n_iter=1500, random_state=1)\n",
    "model.fit(X)  # model.fit_transform(X) is also available\n",
    "topic_word = model.topic_word_  # model.components_ also works\n",
    "n_top_words = 8\n",
    "for i, topic_dist in enumerate(topic_word):\n",
    "    topic_words = np.array(vocab)[np.argsort(topic_dist)][:-n_top_words:-1]\n",
    "    print('Topic {}: {}'.format(i, ' '.join(topic_words)))"
   ]
  },
  {
   "cell_type": "markdown",
   "metadata": {
    "collapsed": true
   },
   "source": [
    "ちなみにAPIのAttributesのところ、\n",
    "http://pythonhosted.org/lda/api.html\n",
    "\n",
    "たぶん\n",
    "\n",
    ">ndz_ \t(array, shape = [n_samples, ~~n_features~~ => n_topics])\n",
    "\n",
    ">doc_topic_ \t(array, shape = [n_samples, ~~n_features~~ => n_topics])\n",
    "\n",
    "だと思う。"
   ]
  },
  {
   "cell_type": "code",
   "execution_count": 23,
   "metadata": {
    "collapsed": false
   },
   "outputs": [
    {
     "name": "stdout",
     "output_type": "stream",
     "text": [
      "(395, 20)\n",
      "(395, 20)\n"
     ]
    }
   ],
   "source": [
    "print model.ndz_.shape\n",
    "print model.doc_topic_.shape"
   ]
  },
  {
   "cell_type": "markdown",
   "metadata": {},
   "source": [
    "#トピックの分布を可視化してみる。"
   ]
  },
  {
   "cell_type": "code",
   "execution_count": 22,
   "metadata": {
    "collapsed": false
   },
   "outputs": [
    {
     "name": "stdout",
     "output_type": "stream",
     "text": [
      "0 UK: Prince Charles spearheads British royal revolution. LONDON 1996-08-20\n"
     ]
    },
    {
     "data": {
      "image/png": "[encoded data removed]",
      "text/plain": [
       "<matplotlib.figure.Figure at 0x422af50>"
      ]
     },
     "metadata": {},
     "output_type": "display_data"
    }
   ],
   "source": [
    "print titles[0]\n",
    "%matplotlib inline\n",
    "import matplotlib.pyplot as plt\n",
    "plt.bar(range(20), model.doc_topic_[0,:], align = \"center\")\n",
    "plt.xlim(-0.5,20)\n",
    "plt.show()"
   ]
  }
 ],
 "metadata": {
  "kernelspec": {
   "display_name": "Python 2",
   "language": "python",
   "name": "python2"
  },
  "language_info": {
   "codemirror_mode": {
    "name": "ipython",
    "version": 2
   },
   "file_extension": ".py",
   "mimetype": "text/x-python",
   "name": "python",
   "nbconvert_exporter": "python",
   "pygments_lexer": "ipython2",
   "version": "2.7.2"
  }
 },
 "nbformat": 4,
 "nbformat_minor": 0
}

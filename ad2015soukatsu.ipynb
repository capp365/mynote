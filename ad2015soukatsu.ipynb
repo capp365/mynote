{
 "cells": [
  {
   "cell_type": "code",
   "execution_count": 22,
   "metadata": {
    "collapsed": false,
    "slideshow": {
     "slide_type": "skip"
    }
   },
   "outputs": [
    {
     "data": {
      "text/html": [
       "<style>\n",
       "\n",
       "div.prompt { /* remove In/Out prompt */\n",
       "    display: none;\n",
       "}\n",
       "\n",
       "div.output_subarea { /* remove margin in front of output */\n",
       "    border: none;\n",
       "}\n",
       "\n",
       "</style>"
      ],
      "text/plain": [
       "<IPython.core.display.HTML object>"
      ]
     },
     "execution_count": 22,
     "metadata": {},
     "output_type": "execute_result"
    }
   ],
   "source": [
    "from IPython.core.display import HTML\n",
    "f=open('./jupytercss/mycss_slide.css','r')\n",
    "HTML('<style>'+f.read()+'</style>')"
   ]
  },
  {
   "cell_type": "markdown",
   "metadata": {
    "slideshow": {
     "slide_type": "slide"
    }
   },
   "source": [
    "<div style=\"text-align: center;font-size: 48px;\">\n",
    "ぴょこりんクラスタAdvent Calendar 2015 総括\n",
    "</div>\n",
    "　  \n",
    "　  \n",
    "　  \n",
    "<div style=\"text-align: right;\">ぴょりこ（[@capp365](https://twitter.com/capp365)）</div>"
   ]
  },
  {
   "cell_type": "markdown",
   "metadata": {
    "slideshow": {
     "slide_type": "slide"
    }
   },
   "source": [
    "# Merry X'mas！\n"
   ]
  },
  {
   "cell_type": "markdown",
   "metadata": {
    "slideshow": {
     "slide_type": "fragment"
    }
   },
   "source": [
    "皆さまクリスマスをいかがお過ごしでしょうか？僕はAmazonで注文したはんだごてが届いたので断線したエレキギターを直してました！"
   ]
  },
  {
   "cell_type": "markdown",
   "metadata": {
    "slideshow": {
     "slide_type": "slide"
    }
   },
   "source": [
    "# ことの発端\n",
    "\n",
    "<blockquote class=\"twitter-tweet\" lang=\"en\"><p lang=\"ja\" dir=\"ltr\">ぴょこりんクラスタアドベントカレンダーやるか。 <a href=\"https://twitter.com/hashtag/%E3%82%84%E3%82%89%E3%81%AA%E3%81%84?src=hash\">#やらない</a></p>&mdash; pyoriko.ex_ (@capp365) <a href=\"https://twitter.com/capp365/status/664002406309474304\">November 10, 2015</a></blockquote>\n",
    "<script async src=\"//platform.twitter.com/widgets.js\" charset=\"utf-8\"></script>\n",
    "\n",
    "意外に食いついた人々がいたのでやってみました。\n"
   ]
  },
  {
   "cell_type": "markdown",
   "metadata": {
    "slideshow": {
     "slide_type": "fragment"
    }
   },
   "source": [
    "ちなみに去年は・・・、\n",
    "<blockquote class=\"twitter-tweet\" lang=\"en\"><p lang=\"ja\" dir=\"ltr\">来年はぴょこりんクラスタアドベントカレンダーやろうな。 <a href=\"https://twitter.com/hashtag/%E3%82%84%E3%82%89%E3%81%AA%E3%81%84?src=hash\">#やらない</a></p>&mdash; pyoriko.ex_ (@capp365) <a href=\"https://twitter.com/capp365/status/541970587036315649\">December 8, 2014</a></blockquote>\n",
    "<script async src=\"//platform.twitter.com/widgets.js\" charset=\"utf-8\"></script>\n",
    "~~まるで成長していない~~言動に一貫性を感じますね！"
   ]
  },
  {
   "cell_type": "markdown",
   "metadata": {
    "slideshow": {
     "slide_type": "slide"
    }
   },
   "source": [
    "#  せっかくなので・・・。\n",
    "\n",
    "各記事を振り返っていきましょう！"
   ]
  },
  {
   "cell_type": "markdown",
   "metadata": {
    "slideshow": {
     "slide_type": "slide"
    }
   },
   "source": [
    "# (12/01) [プログラミング言語pyoko](http://nbisco.hatenablog.com/entry/2015/12/01/000848) ([@nbisco](http://twitter.com/nbisco))\n",
    ">ﾋﾟｮｺﾋﾟｮｺﾋﾟｮｺﾋﾟｮｺﾋﾟｮｺﾋﾟｮｺﾋﾟｮｺﾋﾟｮｺﾋﾟｮｺﾋﾟｮﾘｺﾋﾟｮｯｺ\n",
    "ﾋﾟｮｺﾋﾟｮｺﾋﾟｮｺﾋﾟｮｺﾋﾟｮｺﾋﾟｮｺﾋﾟｮｺﾋﾟｮｺﾋﾟｮｯｺﾋﾟｮｺﾋﾟｮｺ\n",
    "ﾋﾟｮｺﾋﾟｮｺﾋﾟｮｺﾋﾟｮｺﾋﾟｮｺﾋﾟｮｺﾋﾟｮｺﾋﾟｮｺﾋﾟｮｺﾋﾟｮｯｺﾋﾟｮｺ\n",
    "ﾋﾟｮｺﾋﾟｮｺﾋﾟｮｺﾋﾟｮｺﾋﾟｮ?!ﾋﾟｮ?!ﾋﾟｮ?!ﾋﾟｮｺﾘﾋﾟｮｺ-ﾋﾟｮｯｺ\n",
    "ﾋﾟｮｯｺﾘﾝﾋﾟｮｯｺﾋﾟｮｺﾋﾟｮｺﾋﾟｮｯｺﾘﾝﾋﾟｮｺﾋﾟｮｺﾋﾟｮｺﾋﾟｮｺﾋﾟｮｺ\n",
    "ﾋﾟｮｺﾋﾟｮｺﾋﾟｮｯｺﾘﾝﾋﾟｮｯｺﾘﾝﾋﾟｮｺﾋﾟ(以下略\n",
    "\n",
    "* 初日からあまりにコンテンツ力が高かった、いや高すぎた。\n",
    "* このクオリティを維持できるのかと誰もが困惑したはず。\n",
    "* 記事の質のベースラインとなる初日に圧倒的な記事で煽るしろくまさん。僕らはそこにしびれるし、憧れるんだ。"
   ]
  },
  {
   "cell_type": "markdown",
   "metadata": {
    "slideshow": {
     "slide_type": "slide"
    }
   },
   "source": [
    "# (12/02) [大雑把に過去を振り返ってみる](http://nbviewer.ipython.org/github/capp365/mynote/blob/93bf617413323b21c65ca2952f9cda67676fcdbd/advent1.ipynb)([@capp365](http://twitter.com/capp365))\n",
    "\n",
    ">    お仕事に振り回されるシケた1年だった  \n",
    "\n",
    "\n",
    "* 初日が強すぎたのでアイスブレイク的にゴミ記事執筆。\n",
    "* どんな結果が出てこようとも考察は出てきたツイートにコメントをつけるだけだという強い安心感のもと実装。"
   ]
  },
  {
   "cell_type": "markdown",
   "metadata": {
    "slideshow": {
     "slide_type": "slide"
    }
   },
   "source": [
    "# (12/06) [the platinum searcher(pt)をビルドして使ってみよう](http://nbisco.hatenablog.com/entry/2015/12/06/014850) ([@nbisco](http://twitter.com/nbisco))\n",
    "\n",
    ">アドベントカレンダーがさみしいので、  \n",
    "\n",
    "ごめんなさい・・・そしてありがとう・・・。\n",
    "\n",
    ">ついでにpull requestもしてみた。\n",
    "\n",
    "ナチュラルに書いてあるけどなんかしゅごい。本物のﾃﾞｨﾍﾞﾛﾊﾟっぽい。"
   ]
  },
  {
   "cell_type": "markdown",
   "metadata": {
    "slideshow": {
     "slide_type": "slide"
    }
   },
   "source": [
    "# (12/07) [サナララツイート自動収集の基礎的検討(1)](http://nbviewer.ipython.org/github/capp365/mynote/blob/master/advent2.ipynb)([@capp365](http://twitter.com/capp365))\n",
    "\n",
    ">    神の用意したお試しサナララツイート収集は1週間限定だった  \n",
    "\n",
    "\n",
    "* サナララのチャンスシステムとtwitterの検索APIが共に1週間限定だと気づいて衝動的に執筆。\n",
    "* Firefoxのツール群で眺めてりゃチョロいだろうと思ったら全然チョロくなかった。"
   ]
  },
  {
   "cell_type": "markdown",
   "metadata": {
    "slideshow": {
     "slide_type": "slide"
    }
   },
   "source": [
    "# (12/09) [アウトドア引きこもりの実現に向けた一考察](http://darumap.hatenablog.com/entry/2015/12/09/063101) ([@hayadaruma](http://twitter.com/hayadaruma))\n",
    ">技術のぎの字もないけど、ご容赦下さい。\n",
    "\n",
    "- (注)本Advent Calendarには技術、サナララ縛りはありません。\n",
    "\n",
    ">「人から認識されたくなければ、知ってる人がいない所に旅行すればいいじゃん」\n",
    "\n",
    "- ？？？「そうだ、カルフォルニアに行こう。」\n"
   ]
  },
  {
   "cell_type": "markdown",
   "metadata": {
    "slideshow": {
     "slide_type": "slide"
    }
   },
   "source": [
    "# (12/10-12)\n",
    "# [渡米前にやって良かったこと3つ。](http://nbviewer.ipython.org/github/capp365/mynote/blob/master/advent3.ipynb)\n",
    "# [渡米後にやって良かったこと3つ。](http://nbviewer.ipython.org/github/capp365/mynote/blob/master/advent4.ipynb)\n",
    "# [今後、こっちにいる間にやりたいこと。](http://nbviewer.ipython.org/github/capp365/mynote/blob/master/advent5.ipynb)([@capp365](http://twitter.com/capp365))\n",
    "\n",
    "* 日数稼ぎ記事。のーこめんと。"
   ]
  },
  {
   "cell_type": "markdown",
   "metadata": {
    "slideshow": {
     "slide_type": "slide"
    }
   },
   "source": [
    "# (12/13) [アドベントカレンダーの執筆に向けた障害の解決について](http://darumap.hatenablog.com/entry/2015/12/13/145846) ([@hayadaruma](http://twitter.com/hayadaruma))\n",
    ">Ubuntu入れようと思ったら、色々はまってつらい。  \n",
    "\n",
    ">半日ふきとんだ。つらい。\n",
    "\n",
    "* この記事は惜しいなと思いました。\n",
    "* サナララに言及しておきながら、どうしてそのセーブデータの安否について言及しないのか・・・。"
   ]
  },
  {
   "cell_type": "markdown",
   "metadata": {
    "slideshow": {
     "slide_type": "slide"
    }
   },
   "source": [
    "# (12/14) [Disk I/O性能測定するときに活躍する道具たち](http://nbisco.hatenablog.com/entry/2015/12/14/001614) ([@nbisco](http://twitter.com/nbisco))\n",
    "\n",
    ">Disk(HDD/SSD/仮想ディスク等)のI/O性能を測定するのに 活躍するツールについて、簡単に使い方を説明する。\n",
    "\n",
    "* 鍛え抜かれたドキュメント作成能力を感じる。\n",
    "\n",
    "* ちなみにこういうのって、ハードディスク換装時期の目安としても意義あったりする？(あるなら入れてみようかなと)  "
   ]
  },
  {
   "cell_type": "markdown",
   "metadata": {
    "slideshow": {
     "slide_type": "slide"
    }
   },
   "source": [
    "# (12/15) [サナララツイート自動収集の基礎的検討(2)](http://nbviewer.ipython.org/github/capp365/mynote/blob/master/advent6.ipynb)([@capp365](http://twitter.com/capp365))\n",
    "\n",
    ">## Selenium最高\n",
    ">Seleniumはウェブブラウザの操作自動化のためのツールです。Web開発者向けのテスト用途に使われてるやつだそうです。 \n",
    "\n",
    "* 神のシステムの完全な理解を諦め、ブラウザなら見れるというシンプルな事実に基づいた戦略。\n",
    "* 視点を変えてみるとSelenium+PhantomJSって割と定番っぽくて自分の情弱性を感じた。つらい。"
   ]
  },
  {
   "cell_type": "markdown",
   "metadata": {
    "slideshow": {
     "slide_type": "slide"
    }
   },
   "source": [
    "# (12/16) [秒速でRAM Diskを作成する](http://nbisco.hatenablog.com/entry/2015/12/16/000117) ([@nbisco](http://twitter.com/nbisco))\n",
    "\n",
    ">書くネタがだいぶ苦しくなってきたので、特に意味もなくRAM Diskの作り方について書きます。\n",
    "\n",
    "* 参加者が少なくてごめんな！（二度目）\n",
    "\n",
    "* これまた無知で申し訳ないんだけど、（普段使っているので）tmpfsとの違いが知りたい気がした。"
   ]
  },
  {
   "cell_type": "markdown",
   "metadata": {
    "slideshow": {
     "slide_type": "slide"
    }
   },
   "source": [
    "# (12/17) [風邪をひきました。](https://twitter.com/capp365/status/676966893966766081)([@capp365](http://twitter.com/capp365))\n",
    "\n",
    "<blockquote class=\"twitter-tweet\" lang=\"ja\"><p lang=\"ja\" dir=\"ltr\">体温38度で「まぁそうだよなぁ」と思いつつ寝る。</p>&mdash; pyoriko.ex_ (@capp365) <a href=\"https://twitter.com/capp365/status/676966893966766081\">2015, 12月 16</a></blockquote>\n",
    "<script async src=\"//platform.twitter.com/widgets.js\" charset=\"utf-8\"></script>\n",
    "\n",
    "* この日唯一出来たアドベントカレンダーへの善行。"
   ]
  },
  {
   "cell_type": "markdown",
   "metadata": {
    "slideshow": {
     "slide_type": "slide"
    }
   },
   "source": [
    "# (12/18) [サナララメディア処理の基礎的検討(1)](http://nbviewer.ipython.org/github/capp365/mynote/blob/master/advent7.ipynb)([@capp365](http://twitter.com/capp365))\n",
    "\n",
    ">### 映像中に複数いるめっちょかわいいヒロイン達を抽出し追従したい\n",
    "\n",
    "* もっと画像を含めて結果ペタペタ貼りまくりたかった・・・。\n",
    "* ちなみに[神検出器](http://ultraist.hatenablog.com/entry/20110718/1310965532)の人はちょっと前に話題になった超解像技術waifu2xの人。何かDeep Learningも超強い人っぽい。\n",
    "* 趣味駆動型開発は意義あるなぁと再確認出来ました。"
   ]
  },
  {
   "cell_type": "markdown",
   "metadata": {
    "slideshow": {
     "slide_type": "slide"
    }
   },
   "source": [
    "# (12/19) [チャンスシステムの実現に向けた取り組み](http://darumap.hatenablog.com/entry/2015/12/19/233759) ([@hayadaruma](http://twitter.com/hayadaruma))\n",
    ">さて、常に６億円ほしいと思っている私としても、こんなチャンスシステムがあったらいいなと思う訳です。しかし、そんなご都合主義は存在しないのです。そこでこう考えました。\n",
    "\n",
    ">システムのうち、お願いを叶える部分はきっとだれかが作ってくれるから、来る日に備えて、お願いが無茶かどうかを判断する部分を作ろうと。\n",
    "\n",
    "* 面白い着眼点、だけどチャンスシステムにおける神々の業務フローを明らかにするのが先だと感じました。\n",
    "- 誰にでも訪れる一生に一度のチャンスだから、その実行頻度は世界の出生数くらいありそうだし、意義はありそう。"
   ]
  },
  {
   "cell_type": "markdown",
   "metadata": {
    "slideshow": {
     "slide_type": "slide"
    }
   },
   "source": [
    "# (12/20) [Pebble Timeを買って最初にやったこと](http://nbisco.hatenablog.com/entry/2015/12/20/185525) ([@nbisco](http://twitter.com/nbisco))\n",
    "\n",
    "* 僕も一応持ってるんだけど最近ご無沙汰なPebble Timeさん。\n",
    "\n",
    ">### アプリを入れる  \n",
    ">最近のアップデートで睡眠時間と歩数をデフォルトでトラックしてくれるようになったので、 他にアプリをいれなくても充分かな、という感じです。\n",
    "\n",
    "* えっ？そうなの？？？ちょっとPebble Timeたん充電してくる！！\n",
    "* 有益情報ありがとうございます！！！！"
   ]
  },
  {
   "cell_type": "markdown",
   "metadata": {
    "slideshow": {
     "slide_type": "slide"
    }
   },
   "source": [
    "# (12/21) [今年やったボドゲのメモ](http://nbisco.hatenablog.com/entry/2015/12/21/080040) ([@nbisco](http://twitter.com/nbisco))\n",
    "\n",
    ">* 最初のころのぼく「協力ゲーなんてどうせつまんねえよ」\n",
    ">* 1プレイ後のぼくたち「砂漠から脱出できていないのに晩ごはんに行くとかねえだろ！！！おい！集中力を切らさないために寿司とかピザ取るぞ！！！」\n",
    "\n",
    " - 禁断の砂漠楽しそう（僻地勢つらい）。\n",
    " - 後半で言及されてるMowは本当に異常性の高いゲームだよね。\n",
    " - あの頃が懐かしい（とおいめ。"
   ]
  },
  {
   "cell_type": "markdown",
   "metadata": {
    "slideshow": {
     "slide_type": "slide"
    }
   },
   "source": [
    "#  (12/22)[フライパンでにんじんタルトを作ろう](http://nbisco.hatenablog.com/entry/2015/12/22/000506) ([@nbisco](http://twitter.com/nbisco))\n",
    "\n",
    ">オーブンじゃなくてもフライパンでおいしいにんじんタルトが作れる。 写真を撮り忘れるという失態で製作途中の風景がまるでない。  \n",
    "\n",
    "- 僕もこっち来てからしょっちゅうチーズケーキ焼いてるんだけど、お菓子作り楽しいよね！\n",
    "\n",
    ">* フライパンのふた(ないとつらい)\n",
    "\n",
    "- 眺めてたらうちにはこれがないのに気づいてつらい。"
   ]
  },
  {
   "cell_type": "markdown",
   "metadata": {
    "slideshow": {
     "slide_type": "slide"
    }
   },
   "source": [
    "# (12/23) [メリー皐文！](http://www.pixiv.net/member_illust.php?mode=medium&illust_id=54174945) ([@Minathuki99](http://twitter.com/Minathuki99))\n",
    "\n",
    "<iframe src=\"http://embed.pixiv.net/code.php?id=54174945_cbf068e095746c14b4af92785a7b70b7\" width=\"380\" height=\"168\" style=\"background:transparent\" frameborder=\"0\" marginwidth=\"0\" marginheight=\"0\" scrolling=\"no\"></iframe>\n",
    "\n",
    "* 忙しい時期に、そして宗教上の都合に反して睦月型をありがとう！駆逐艦は控えめに言って最高ですね！\n",
    "* くっそーなんで皐月だけオーバーニーソ（サイハイ？）なんだーっと思ったら普通に原作準拠だった。提督力足りなかった。"
   ]
  },
  {
   "cell_type": "markdown",
   "metadata": {
    "slideshow": {
     "slide_type": "slide"
    }
   },
   "source": [
    "# (12/24) [ぴょっこりん feat. 鏡音リン](https://soundcloud.com/capp365/pyokorinrin) ([@capp365](http://twitter.com/capp365))\n",
    "<iframe width=\"100%\" height=\"166\" scrolling=\"no\" frameborder=\"no\" src=\"https://w.soundcloud.com/player/?url=https%3A//api.soundcloud.com/tracks/238832345&amp;color=ff5500&amp;auto_play=false&amp;hide_related=false&amp;show_comments=true&amp;show_user=true&amp;show_reposts=false\"></iframe>\n",
    "- 忘れ去られし設定、僕はDTMer。\n",
    "- どう聴いても出落ちです本当にありがとうございました。\n",
    "- [これ](http://www.crypton.co.jp/mp/pages/prod/vocaloid/rinlenv4x.jsp)が日本時間で24日になってすぐダウンロード出来たら差し替えようと思ったんだけどなんなかったので旧リンちゃんでうp"
   ]
  },
  {
   "cell_type": "markdown",
   "metadata": {
    "collapsed": true,
    "slideshow": {
     "slide_type": "slide"
    }
   },
   "source": [
    "# (12/25) ぴょこりんクラスタAdvent Calendar 2015総括 ([@capp365](http://twitter.com/capp365))\n",
    " - この記事。\n",
    " - Jupyterでプレゼンつくってみたかったんだ。"
   ]
  },
  {
   "cell_type": "markdown",
   "metadata": {
    "slideshow": {
     "slide_type": "slide"
    }
   },
   "source": [
    "# 以上、ぴょこりんクラスタ Advent Calendar 2015の記事一覧でした。"
   ]
  },
  {
   "cell_type": "markdown",
   "metadata": {
    "slideshow": {
     "slide_type": "slide"
    }
   },
   "source": [
    "# 感想"
   ]
  },
  {
   "cell_type": "markdown",
   "metadata": {
    "slideshow": {
     "slide_type": "slide"
    }
   },
   "source": [
    "# 良かったこと\n",
    "- はじめて立てたアドベントカレンダーを完遂！！うれしい！！\n",
    "- テーマ自由なお陰で幅広い話題が出てきた！！楽しい！！\n",
    "- 短期間で割と色んなものが試せた！！すごい！！"
   ]
  },
  {
   "cell_type": "markdown",
   "metadata": {
    "slideshow": {
     "slide_type": "slide"
    }
   },
   "source": [
    "# 良くなかったこと\n",
    " - 人の集まりは良くなかった（これは割と想定してた）。\n",
    " - 最初仕込んでたネタは実は失敗してお蔵入してた。   \n",
    " (その割に執筆したデータ分析ネタも失敗だらけ・・・。)\n",
    " - ちょっぴり生活のリズムが乱れた(風邪もひいた)。"
   ]
  },
  {
   "cell_type": "markdown",
   "metadata": {
    "slideshow": {
     "slide_type": "slide"
    }
   },
   "source": [
    "# まとめ"
   ]
  },
  {
   "cell_type": "markdown",
   "metadata": {
    "slideshow": {
     "slide_type": "slide"
    }
   },
   "source": [
    "# ぴょこりんクラスタAdvent Calendar 2015無事終了！\n",
    "\n",
    "- 記事のネタ出し＋執筆、お疲れさまでした！\n",
    "- 個人的にはとても楽しめました。  \n",
    "(参加者の方々も楽しめてたら良いのだけど)\n",
    "- 来年もやるかどうかは来年考えればいいね！"
   ]
  },
  {
   "cell_type": "markdown",
   "metadata": {
    "slideshow": {
     "slide_type": "slide"
    }
   },
   "source": [
    "# それでは皆さま、良いお年を！"
   ]
  }
 ],
 "metadata": {
  "celltoolbar": "Slideshow",
  "kernelspec": {
   "display_name": "Python 2",
   "language": "python",
   "name": "python2"
  },
  "language_info": {
   "codemirror_mode": {
    "name": "ipython",
    "version": 2
   },
   "file_extension": ".py",
   "mimetype": "text/x-python",
   "name": "python",
   "nbconvert_exporter": "python",
   "pygments_lexer": "ipython2",
   "version": "2.7.6"
  }
 },
 "nbformat": 4,
 "nbformat_minor": 0
}
